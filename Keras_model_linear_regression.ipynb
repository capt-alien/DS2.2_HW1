{
 "cells": [
  {
   "cell_type": "markdown",
   "metadata": {},
   "source": [
    "# Homework 1:\n",
    "1- Build a Keras Model for linear regression (check: https://keras.io/activations/). Use Boston Housing Dataset to train and test your model\n",
    "\n",
    "2- Build a Keras Model for logistic regression. Use diabetes.csv to train and test\n",
    "\n",
    "Comments:\n",
    "\n",
    "1- Build the simplest model for linear regression with Keras and compare your model performance with from sklearn.linear_model import LinearRegression\n",
    "\n",
    "2- Build the simplest model for logistic regression with Keras and compare your model performance with from sklearn.linear_model import LogisticRegression\n",
    "\n",
    "3- Add more complexity to your models in (1) and (2) and compare with previous results\n",
    "\n",
    "\n",
    "Got Help from Nathan Pal on this one!"
   ]
  },
  {
   "cell_type": "markdown",
   "metadata": {},
   "source": [
    "# 1) Keras Model for Linear Regression:"
   ]
  },
  {
   "cell_type": "code",
   "execution_count": 128,
   "metadata": {},
   "outputs": [],
   "source": [
    "#get imports\n",
    "from sklearn.datasets import load_boston\n",
    "import pandas as pd\n",
    "import numpy as np\n",
    "import matplotlib.pyplot as plt"
   ]
  },
  {
   "cell_type": "code",
   "execution_count": 129,
   "metadata": {},
   "outputs": [],
   "source": [
    "import keras\n",
    "from keras.models import Sequential\n",
    "from keras.layers import Dense\n",
    "\n",
    "from sklearn.preprocessing import StandardScaler\n",
    "from sklearn.model_selection import train_test_split"
   ]
  },
  {
   "cell_type": "code",
   "execution_count": 130,
   "metadata": {},
   "outputs": [],
   "source": [
    "# import data\n",
    "boston = load_boston()\n",
    "\n",
    "bos = pd.DataFrame(boston.data)\n",
    "\n",
    "bos.columns = boston.feature_names\n",
    "# bos['PRICE'] = boston.target"
   ]
  },
  {
   "cell_type": "code",
   "execution_count": 131,
   "metadata": {},
   "outputs": [
    {
     "data": {
      "text/html": [
       "<div>\n",
       "<style scoped>\n",
       "    .dataframe tbody tr th:only-of-type {\n",
       "        vertical-align: middle;\n",
       "    }\n",
       "\n",
       "    .dataframe tbody tr th {\n",
       "        vertical-align: top;\n",
       "    }\n",
       "\n",
       "    .dataframe thead th {\n",
       "        text-align: right;\n",
       "    }\n",
       "</style>\n",
       "<table border=\"1\" class=\"dataframe\">\n",
       "  <thead>\n",
       "    <tr style=\"text-align: right;\">\n",
       "      <th></th>\n",
       "      <th>CRIM</th>\n",
       "      <th>ZN</th>\n",
       "      <th>INDUS</th>\n",
       "      <th>CHAS</th>\n",
       "      <th>NOX</th>\n",
       "      <th>RM</th>\n",
       "      <th>AGE</th>\n",
       "      <th>DIS</th>\n",
       "      <th>RAD</th>\n",
       "      <th>TAX</th>\n",
       "      <th>PTRATIO</th>\n",
       "      <th>B</th>\n",
       "      <th>LSTAT</th>\n",
       "    </tr>\n",
       "  </thead>\n",
       "  <tbody>\n",
       "    <tr>\n",
       "      <th>0</th>\n",
       "      <td>0.00632</td>\n",
       "      <td>18.0</td>\n",
       "      <td>2.31</td>\n",
       "      <td>0.0</td>\n",
       "      <td>0.538</td>\n",
       "      <td>6.575</td>\n",
       "      <td>65.2</td>\n",
       "      <td>4.0900</td>\n",
       "      <td>1.0</td>\n",
       "      <td>296.0</td>\n",
       "      <td>15.3</td>\n",
       "      <td>396.90</td>\n",
       "      <td>4.98</td>\n",
       "    </tr>\n",
       "    <tr>\n",
       "      <th>1</th>\n",
       "      <td>0.02731</td>\n",
       "      <td>0.0</td>\n",
       "      <td>7.07</td>\n",
       "      <td>0.0</td>\n",
       "      <td>0.469</td>\n",
       "      <td>6.421</td>\n",
       "      <td>78.9</td>\n",
       "      <td>4.9671</td>\n",
       "      <td>2.0</td>\n",
       "      <td>242.0</td>\n",
       "      <td>17.8</td>\n",
       "      <td>396.90</td>\n",
       "      <td>9.14</td>\n",
       "    </tr>\n",
       "    <tr>\n",
       "      <th>2</th>\n",
       "      <td>0.02729</td>\n",
       "      <td>0.0</td>\n",
       "      <td>7.07</td>\n",
       "      <td>0.0</td>\n",
       "      <td>0.469</td>\n",
       "      <td>7.185</td>\n",
       "      <td>61.1</td>\n",
       "      <td>4.9671</td>\n",
       "      <td>2.0</td>\n",
       "      <td>242.0</td>\n",
       "      <td>17.8</td>\n",
       "      <td>392.83</td>\n",
       "      <td>4.03</td>\n",
       "    </tr>\n",
       "    <tr>\n",
       "      <th>3</th>\n",
       "      <td>0.03237</td>\n",
       "      <td>0.0</td>\n",
       "      <td>2.18</td>\n",
       "      <td>0.0</td>\n",
       "      <td>0.458</td>\n",
       "      <td>6.998</td>\n",
       "      <td>45.8</td>\n",
       "      <td>6.0622</td>\n",
       "      <td>3.0</td>\n",
       "      <td>222.0</td>\n",
       "      <td>18.7</td>\n",
       "      <td>394.63</td>\n",
       "      <td>2.94</td>\n",
       "    </tr>\n",
       "    <tr>\n",
       "      <th>4</th>\n",
       "      <td>0.06905</td>\n",
       "      <td>0.0</td>\n",
       "      <td>2.18</td>\n",
       "      <td>0.0</td>\n",
       "      <td>0.458</td>\n",
       "      <td>7.147</td>\n",
       "      <td>54.2</td>\n",
       "      <td>6.0622</td>\n",
       "      <td>3.0</td>\n",
       "      <td>222.0</td>\n",
       "      <td>18.7</td>\n",
       "      <td>396.90</td>\n",
       "      <td>5.33</td>\n",
       "    </tr>\n",
       "  </tbody>\n",
       "</table>\n",
       "</div>"
      ],
      "text/plain": [
       "      CRIM    ZN  INDUS  CHAS    NOX     RM   AGE     DIS  RAD    TAX  \\\n",
       "0  0.00632  18.0   2.31   0.0  0.538  6.575  65.2  4.0900  1.0  296.0   \n",
       "1  0.02731   0.0   7.07   0.0  0.469  6.421  78.9  4.9671  2.0  242.0   \n",
       "2  0.02729   0.0   7.07   0.0  0.469  7.185  61.1  4.9671  2.0  242.0   \n",
       "3  0.03237   0.0   2.18   0.0  0.458  6.998  45.8  6.0622  3.0  222.0   \n",
       "4  0.06905   0.0   2.18   0.0  0.458  7.147  54.2  6.0622  3.0  222.0   \n",
       "\n",
       "   PTRATIO       B  LSTAT  \n",
       "0     15.3  396.90   4.98  \n",
       "1     17.8  396.90   9.14  \n",
       "2     17.8  392.83   4.03  \n",
       "3     18.7  394.63   2.94  \n",
       "4     18.7  396.90   5.33  "
      ]
     },
     "execution_count": 131,
     "metadata": {},
     "output_type": "execute_result"
    }
   ],
   "source": [
    "bos.head()"
   ]
  },
  {
   "cell_type": "code",
   "execution_count": 132,
   "metadata": {},
   "outputs": [],
   "source": [
    "# Backup file to a .csv\n",
    "\n",
    "# filename = \"./boston_data.csv\"\n",
    "# bos.to_csv(filename, sep=',')"
   ]
  },
  {
   "cell_type": "code",
   "execution_count": 136,
   "metadata": {},
   "outputs": [],
   "source": [
    "#input\n",
    "X = bos\n",
    "\n",
    "#true values\n",
    "# y =bos.target\n",
    "y = boston.target\n"
   ]
  },
  {
   "cell_type": "code",
   "execution_count": 96,
   "metadata": {},
   "outputs": [
    {
     "data": {
      "text/plain": [
       "Index(['CRIM', 'ZN', 'INDUS', 'CHAS', 'NOX', 'RM', 'AGE', 'DIS', 'RAD', 'TAX',\n",
       "       'PTRATIO', 'B', 'LSTAT'],\n",
       "      dtype='object')"
      ]
     },
     "execution_count": 96,
     "metadata": {},
     "output_type": "execute_result"
    }
   ],
   "source": [
    "len(bos.columns)\n",
    "bos.columns"
   ]
  },
  {
   "cell_type": "code",
   "execution_count": 117,
   "metadata": {},
   "outputs": [],
   "source": [
    "#Split data\n",
    "X_train, X_test, y_train, y_test = train_test_split(X, y, test_size = 0.25, random_state = 0)"
   ]
  },
  {
   "cell_type": "code",
   "execution_count": 137,
   "metadata": {},
   "outputs": [],
   "source": [
    "#scale and fit data\n",
    "sc = StandardScaler()\n",
    "X = sc.fit_transform(X)\n",
    "X_test = sc.transform(X_test)\n",
    "\n",
    "X_train = sc.transform(X_train)"
   ]
  },
  {
   "cell_type": "code",
   "execution_count": 138,
   "metadata": {},
   "outputs": [],
   "source": [
    "#initalize the ANN for Classification\n",
    "classifier = Sequential()\n",
    "\n",
    "#input layer\n",
    "classifier.add(Dense(activation=\"relu\", input_dim=13, units=7, kernel_initializer=\"uniform\"))\n",
    "#second hidden layer\n",
    "classifier.add(Dense(activation=\"relu\", units=7, kernel_initializer=\"uniform\"))\n",
    "# #output layer\n",
    "classifier.add(Dense(activation=\"linear\", units=1, kernel_initializer=\"uniform\"))\n"
   ]
  },
  {
   "cell_type": "markdown",
   "metadata": {},
   "source": [
    "1) Trying compiling the ANN with sgd instead of adam\n",
    "\n",
    "2) Different batch sizes"
   ]
  },
  {
   "cell_type": "code",
   "execution_count": 139,
   "metadata": {},
   "outputs": [],
   "source": [
    "classifier.compile(optimizer='adam', loss='mse', metrics=['mse'])\n"
   ]
  },
  {
   "cell_type": "code",
   "execution_count": 140,
   "metadata": {},
   "outputs": [
    {
     "name": "stdout",
     "output_type": "stream",
     "text": [
      "Epoch 1/100\n",
      "379/379 [==============================] - 1s 3ms/step - loss: 463.9839 - mean_squared_error: 463.9839\n",
      "Epoch 2/100\n",
      "379/379 [==============================] - 1s 1ms/step - loss: 64.9017 - mean_squared_error: 64.9017\n",
      "Epoch 3/100\n",
      "379/379 [==============================] - 1s 1ms/step - loss: 30.0684 - mean_squared_error: 30.0684\n",
      "Epoch 4/100\n",
      "379/379 [==============================] - 1s 1ms/step - loss: 25.6562 - mean_squared_error: 25.6562\n",
      "Epoch 5/100\n",
      "379/379 [==============================] - 1s 1ms/step - loss: 23.3540 - mean_squared_error: 23.3540\n",
      "Epoch 6/100\n",
      "379/379 [==============================] - 1s 1ms/step - loss: 21.9357 - mean_squared_error: 21.9357\n",
      "Epoch 7/100\n",
      "379/379 [==============================] - 1s 1ms/step - loss: 20.7575 - mean_squared_error: 20.7575\n",
      "Epoch 8/100\n",
      "379/379 [==============================] - 1s 2ms/step - loss: 19.7247 - mean_squared_error: 19.7247\n",
      "Epoch 9/100\n",
      "379/379 [==============================] - 1s 2ms/step - loss: 18.7294 - mean_squared_error: 18.7294\n",
      "Epoch 10/100\n",
      "379/379 [==============================] - 1s 2ms/step - loss: 18.2372 - mean_squared_error: 18.2372\n",
      "Epoch 11/100\n",
      "379/379 [==============================] - 1s 2ms/step - loss: 17.5308 - mean_squared_error: 17.5308\n",
      "Epoch 12/100\n",
      "379/379 [==============================] - 1s 1ms/step - loss: 16.8184 - mean_squared_error: 16.8184\n",
      "Epoch 13/100\n",
      "379/379 [==============================] - 1s 1ms/step - loss: 16.0728 - mean_squared_error: 16.0728\n",
      "Epoch 14/100\n",
      "379/379 [==============================] - 1s 1ms/step - loss: 15.5740 - mean_squared_error: 15.5740\n",
      "Epoch 15/100\n",
      "379/379 [==============================] - 1s 1ms/step - loss: 15.1882 - mean_squared_error: 15.1882\n",
      "Epoch 16/100\n",
      "379/379 [==============================] - 1s 2ms/step - loss: 14.4321 - mean_squared_error: 14.4321\n",
      "Epoch 17/100\n",
      "379/379 [==============================] - 1s 2ms/step - loss: 13.9186 - mean_squared_error: 13.9186\n",
      "Epoch 18/100\n",
      "379/379 [==============================] - 1s 2ms/step - loss: 13.4040 - mean_squared_error: 13.4040\n",
      "Epoch 19/100\n",
      "379/379 [==============================] - 1s 3ms/step - loss: 13.0916 - mean_squared_error: 13.09160s - loss:\n",
      "Epoch 20/100\n",
      "379/379 [==============================] - 1s 2ms/step - loss: 12.6125 - mean_squared_error: 12.6125\n",
      "Epoch 21/100\n",
      "379/379 [==============================] - 1s 2ms/step - loss: 12.2379 - mean_squared_error: 12.2379\n",
      "Epoch 22/100\n",
      "379/379 [==============================] - 1s 2ms/step - loss: 12.0609 - mean_squared_error: 12.0609\n",
      "Epoch 23/100\n",
      "379/379 [==============================] - 1s 2ms/step - loss: 11.5661 - mean_squared_error: 11.5661\n",
      "Epoch 24/100\n",
      "379/379 [==============================] - 1s 2ms/step - loss: 11.1663 - mean_squared_error: 11.1663\n",
      "Epoch 25/100\n",
      "379/379 [==============================] - 1s 2ms/step - loss: 11.2678 - mean_squared_error: 11.2678\n",
      "Epoch 26/100\n",
      "379/379 [==============================] - 1s 1ms/step - loss: 10.9214 - mean_squared_error: 10.9214\n",
      "Epoch 27/100\n",
      "379/379 [==============================] - 1s 1ms/step - loss: 10.8698 - mean_squared_error: 10.8698\n",
      "Epoch 28/100\n",
      "379/379 [==============================] - 1s 1ms/step - loss: 10.4588 - mean_squared_error: 10.4588\n",
      "Epoch 29/100\n",
      "379/379 [==============================] - 1s 1ms/step - loss: 10.5217 - mean_squared_error: 10.5217\n",
      "Epoch 30/100\n",
      "379/379 [==============================] - 1s 1ms/step - loss: 10.4153 - mean_squared_error: 10.4153\n",
      "Epoch 31/100\n",
      "379/379 [==============================] - 1s 2ms/step - loss: 10.2195 - mean_squared_error: 10.2195\n",
      "Epoch 32/100\n",
      "379/379 [==============================] - 1s 2ms/step - loss: 10.1635 - mean_squared_error: 10.1635\n",
      "Epoch 33/100\n",
      "379/379 [==============================] - 1s 1ms/step - loss: 10.0087 - mean_squared_error: 10.0087\n",
      "Epoch 34/100\n",
      "379/379 [==============================] - 1s 1ms/step - loss: 9.7980 - mean_squared_error: 9.7980\n",
      "Epoch 35/100\n",
      "379/379 [==============================] - 1s 2ms/step - loss: 9.7433 - mean_squared_error: 9.7433: 0s - loss: 8.9015 - mean_squared_error\n",
      "Epoch 36/100\n",
      "379/379 [==============================] - 1s 2ms/step - loss: 9.6341 - mean_squared_error: 9.6341\n",
      "Epoch 37/100\n",
      "379/379 [==============================] - 1s 2ms/step - loss: 9.4501 - mean_squared_error: 9.4501\n",
      "Epoch 38/100\n",
      "379/379 [==============================] - 1s 1ms/step - loss: 9.4905 - mean_squared_error: 9.4905\n",
      "Epoch 39/100\n",
      "379/379 [==============================] - 1s 1ms/step - loss: 9.4009 - mean_squared_error: 9.4009\n",
      "Epoch 40/100\n",
      "379/379 [==============================] - 1s 2ms/step - loss: 9.2775 - mean_squared_error: 9.2775\n",
      "Epoch 41/100\n",
      "379/379 [==============================] - 1s 2ms/step - loss: 9.2225 - mean_squared_error: 9.2225\n",
      "Epoch 42/100\n",
      "379/379 [==============================] - 1s 2ms/step - loss: 9.0192 - mean_squared_error: 9.0192\n",
      "Epoch 43/100\n",
      "379/379 [==============================] - 1s 1ms/step - loss: 9.0714 - mean_squared_error: 9.0714\n",
      "Epoch 44/100\n",
      "379/379 [==============================] - 1s 2ms/step - loss: 9.0604 - mean_squared_error: 9.0604\n",
      "Epoch 45/100\n",
      "379/379 [==============================] - 1s 3ms/step - loss: 9.0108 - mean_squared_error: 9.0108\n",
      "Epoch 46/100\n",
      "379/379 [==============================] - 1s 2ms/step - loss: 8.9881 - mean_squared_error: 8.9881\n",
      "Epoch 47/100\n",
      "379/379 [==============================] - 1s 2ms/step - loss: 8.8045 - mean_squared_error: 8.8045\n",
      "Epoch 48/100\n",
      "379/379 [==============================] - 1s 2ms/step - loss: 8.7207 - mean_squared_error: 8.7207\n",
      "Epoch 49/100\n",
      "379/379 [==============================] - 1s 1ms/step - loss: 8.7712 - mean_squared_error: 8.7712\n",
      "Epoch 50/100\n",
      "379/379 [==============================] - 1s 1ms/step - loss: 8.7141 - mean_squared_error: 8.7141\n",
      "Epoch 51/100\n",
      "379/379 [==============================] - 1s 2ms/step - loss: 8.5206 - mean_squared_error: 8.5206\n",
      "Epoch 52/100\n",
      "379/379 [==============================] - 1s 1ms/step - loss: 8.6783 - mean_squared_error: 8.6783\n",
      "Epoch 53/100\n",
      "379/379 [==============================] - 1s 2ms/step - loss: 8.6169 - mean_squared_error: 8.6169\n",
      "Epoch 54/100\n",
      "379/379 [==============================] - 1s 2ms/step - loss: 8.3097 - mean_squared_error: 8.3097\n",
      "Epoch 55/100\n",
      "379/379 [==============================] - 1s 1ms/step - loss: 8.4478 - mean_squared_error: 8.4478\n",
      "Epoch 56/100\n",
      "379/379 [==============================] - 1s 2ms/step - loss: 8.3248 - mean_squared_error: 8.3248\n",
      "Epoch 57/100\n",
      "379/379 [==============================] - 1s 2ms/step - loss: 8.3939 - mean_squared_error: 8.3939\n",
      "Epoch 58/100\n",
      "379/379 [==============================] - 1s 2ms/step - loss: 8.2067 - mean_squared_error: 8.2067\n",
      "Epoch 59/100\n",
      "379/379 [==============================] - 1s 2ms/step - loss: 8.3093 - mean_squared_error: 8.3093\n",
      "Epoch 60/100\n",
      "379/379 [==============================] - 1s 2ms/step - loss: 8.4008 - mean_squared_error: 8.4008\n",
      "Epoch 61/100\n",
      "379/379 [==============================] - 1s 2ms/step - loss: 8.1268 - mean_squared_error: 8.1268\n",
      "Epoch 62/100\n",
      "379/379 [==============================] - 1s 1ms/step - loss: 8.2952 - mean_squared_error: 8.2952\n",
      "Epoch 63/100\n",
      "379/379 [==============================] - 1s 1ms/step - loss: 8.1649 - mean_squared_error: 8.1649\n",
      "Epoch 64/100\n",
      "379/379 [==============================] - 1s 1ms/step - loss: 8.0979 - mean_squared_error: 8.0979\n",
      "Epoch 65/100\n",
      "379/379 [==============================] - 1s 1ms/step - loss: 8.0308 - mean_squared_error: 8.0308\n",
      "Epoch 66/100\n",
      "379/379 [==============================] - 1s 1ms/step - loss: 8.1405 - mean_squared_error: 8.1405\n",
      "Epoch 67/100\n",
      "379/379 [==============================] - 1s 1ms/step - loss: 7.8900 - mean_squared_error: 7.8900\n",
      "Epoch 68/100\n",
      "379/379 [==============================] - 1s 1ms/step - loss: 8.0346 - mean_squared_error: 8.0346\n",
      "Epoch 69/100\n",
      "379/379 [==============================] - 1s 1ms/step - loss: 7.9718 - mean_squared_error: 7.9718\n",
      "Epoch 70/100\n",
      "379/379 [==============================] - 1s 1ms/step - loss: 8.0131 - mean_squared_error: 8.0131\n",
      "Epoch 71/100\n",
      "379/379 [==============================] - 1s 1ms/step - loss: 7.8991 - mean_squared_error: 7.8991\n",
      "Epoch 72/100\n",
      "379/379 [==============================] - 1s 1ms/step - loss: 7.7848 - mean_squared_error: 7.7848\n",
      "Epoch 73/100\n"
     ]
    },
    {
     "name": "stdout",
     "output_type": "stream",
     "text": [
      "379/379 [==============================] - 1s 1ms/step - loss: 7.8508 - mean_squared_error: 7.8508\n",
      "Epoch 74/100\n",
      "379/379 [==============================] - 1s 1ms/step - loss: 7.8780 - mean_squared_error: 7.8780\n",
      "Epoch 75/100\n",
      "379/379 [==============================] - 1s 1ms/step - loss: 7.9512 - mean_squared_error: 7.9512\n",
      "Epoch 76/100\n",
      "379/379 [==============================] - 0s 1ms/step - loss: 7.9171 - mean_squared_error: 7.9171\n",
      "Epoch 77/100\n",
      "379/379 [==============================] - 0s 1ms/step - loss: 7.7006 - mean_squared_error: 7.7006\n",
      "Epoch 78/100\n",
      "379/379 [==============================] - 1s 1ms/step - loss: 7.8069 - mean_squared_error: 7.8069\n",
      "Epoch 79/100\n",
      "379/379 [==============================] - 1s 1ms/step - loss: 7.6779 - mean_squared_error: 7.6779\n",
      "Epoch 80/100\n",
      "379/379 [==============================] - 1s 1ms/step - loss: 7.5842 - mean_squared_error: 7.5842\n",
      "Epoch 81/100\n",
      "379/379 [==============================] - 1s 1ms/step - loss: 7.5661 - mean_squared_error: 7.5661\n",
      "Epoch 82/100\n",
      "379/379 [==============================] - 1s 1ms/step - loss: 7.5706 - mean_squared_error: 7.5706\n",
      "Epoch 83/100\n",
      "379/379 [==============================] - 1s 1ms/step - loss: 7.5760 - mean_squared_error: 7.5760\n",
      "Epoch 84/100\n",
      "379/379 [==============================] - 1s 1ms/step - loss: 7.7173 - mean_squared_error: 7.7173\n",
      "Epoch 85/100\n",
      "379/379 [==============================] - 1s 1ms/step - loss: 7.4392 - mean_squared_error: 7.4392\n",
      "Epoch 86/100\n",
      "379/379 [==============================] - 1s 1ms/step - loss: 7.3624 - mean_squared_error: 7.3624\n",
      "Epoch 87/100\n",
      "379/379 [==============================] - 1s 1ms/step - loss: 7.6096 - mean_squared_error: 7.6096\n",
      "Epoch 88/100\n",
      "379/379 [==============================] - 1s 1ms/step - loss: 7.4510 - mean_squared_error: 7.4510\n",
      "Epoch 89/100\n",
      "379/379 [==============================] - 1s 1ms/step - loss: 7.4883 - mean_squared_error: 7.4883\n",
      "Epoch 90/100\n",
      "379/379 [==============================] - 1s 1ms/step - loss: 7.3249 - mean_squared_error: 7.3249\n",
      "Epoch 91/100\n",
      "379/379 [==============================] - 1s 1ms/step - loss: 7.6031 - mean_squared_error: 7.6031\n",
      "Epoch 92/100\n",
      "379/379 [==============================] - 1s 1ms/step - loss: 7.4668 - mean_squared_error: 7.4668\n",
      "Epoch 93/100\n",
      "379/379 [==============================] - 0s 1ms/step - loss: 7.4630 - mean_squared_error: 7.4630\n",
      "Epoch 94/100\n",
      "379/379 [==============================] - 1s 1ms/step - loss: 7.2972 - mean_squared_error: 7.2972\n",
      "Epoch 95/100\n",
      "379/379 [==============================] - 1s 1ms/step - loss: 7.4461 - mean_squared_error: 7.4461\n",
      "Epoch 96/100\n",
      "379/379 [==============================] - 1s 1ms/step - loss: 7.2815 - mean_squared_error: 7.2815\n",
      "Epoch 97/100\n",
      "379/379 [==============================] - 1s 1ms/step - loss: 7.4055 - mean_squared_error: 7.4055\n",
      "Epoch 98/100\n",
      "379/379 [==============================] - 1s 1ms/step - loss: 7.3593 - mean_squared_error: 7.3593\n",
      "Epoch 99/100\n",
      "379/379 [==============================] - 0s 1ms/step - loss: 7.2765 - mean_squared_error: 7.2765\n",
      "Epoch 100/100\n",
      "379/379 [==============================] - 1s 1ms/step - loss: 7.2836 - mean_squared_error: 7.2836\n"
     ]
    },
    {
     "data": {
      "text/plain": [
       "<keras.callbacks.History at 0x131601780>"
      ]
     },
     "execution_count": 140,
     "metadata": {},
     "output_type": "execute_result"
    }
   ],
   "source": [
    "classifier.fit(X_train, y_train, batch_size = 1, epochs=100)\n"
   ]
  },
  {
   "cell_type": "code",
   "execution_count": 143,
   "metadata": {},
   "outputs": [
    {
     "data": {
      "text/plain": [
       "-46.48588565255173"
      ]
     },
     "execution_count": 143,
     "metadata": {},
     "output_type": "execute_result"
    }
   ],
   "source": [
    "#test model for accuracty\n",
    "# Predicting the Test set results\n",
    "y_pred = classifier.predict(X_test)\n",
    "\n",
    "# Evaluate Regression model\n",
    "from sklearn.metrics import r2_score\n",
    "r2_score(y_test, y_pred)"
   ]
  },
  {
   "cell_type": "code",
   "execution_count": 144,
   "metadata": {},
   "outputs": [
    {
     "data": {
      "text/plain": [
       "-4.072107441964248"
      ]
     },
     "execution_count": 144,
     "metadata": {},
     "output_type": "execute_result"
    }
   ],
   "source": [
    "from sklearn.linear_model import LinearRegression\n",
    "l_regression= LinearRegression().fit(X_train, y_train)\n",
    "l_regression.score(X_test, y_test)"
   ]
  },
  {
   "cell_type": "code",
   "execution_count": 90,
   "metadata": {},
   "outputs": [],
   "source": [
    "# ^^^^^WTF IS THIS??"
   ]
  },
  {
   "cell_type": "code",
   "execution_count": null,
   "metadata": {},
   "outputs": [],
   "source": []
  }
 ],
 "metadata": {
  "kernelspec": {
   "display_name": "Python 3",
   "language": "python",
   "name": "python3"
  },
  "language_info": {
   "codemirror_mode": {
    "name": "ipython",
    "version": 3
   },
   "file_extension": ".py",
   "mimetype": "text/x-python",
   "name": "python",
   "nbconvert_exporter": "python",
   "pygments_lexer": "ipython3",
   "version": "3.7.3"
  }
 },
 "nbformat": 4,
 "nbformat_minor": 2
}
